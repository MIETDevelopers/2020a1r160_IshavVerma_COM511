{
 "cells": [
  {
   "cell_type": "code",
   "execution_count": 1,
   "id": "92b7ac19-c00d-4c70-844e-2c6cbc728ff8",
   "metadata": {},
   "outputs": [],
   "source": [
    "class Employee:\n",
    "    def __init__(self, name, no, dept, salary):\n",
    "        self.name = name\n",
    "        self.no = no\n",
    "        self.dept = dept\n",
    "        self.salary = salary\n",
    "\n",
    "    def add(self, Name, no, dept, salary):\n",
    "        ob = Employee(Name, no, dept, salary)\n",
    "        ls.append(ob)\n",
    "\n",
    "    def display(self, ob):\n",
    "        print(\"Name : \", ob.name)\n",
    "        print(\"Id No : \", ob.no)\n",
    "        print(\"Dept : \", ob.dept)\n",
    "        print(\"Salary : \", ob.salary)\n",
    "        print(\"\\n\")\n",
    "\n",
    "    def search(self, idn):\n",
    "        for i in range(ls.__len__()):\n",
    "            if(ls[i].no == idn):\n",
    "                return i\n",
    "    \n",
    "    def delete(self, idn):\n",
    "        i = obj.search(idn)\n",
    "        del ls[i]"
   ]
  },
  {
   "cell_type": "code",
   "execution_count": 2,
   "id": "af8a1cda-b160-4ce1-a847-33aeab4e7f0a",
   "metadata": {},
   "outputs": [],
   "source": [
    "ls = []\n",
    "obj = Employee('', 0, '',0)"
   ]
  },
  {
   "cell_type": "code",
   "execution_count": 3,
   "id": "6e679dff-e481-482c-873a-0a15a5b6b921",
   "metadata": {},
   "outputs": [],
   "source": [
    "obj.add(\"Ishav\", 1, \"CSE\", 10000)"
   ]
  },
  {
   "cell_type": "code",
   "execution_count": 4,
   "id": "76e30adc-e800-4f0e-b130-5f592029d098",
   "metadata": {},
   "outputs": [],
   "source": [
    "obj.add(\"Arjun\", 2, \"CSE\", 50000)"
   ]
  },
  {
   "cell_type": "code",
   "execution_count": 5,
   "id": "ad7a99db-338b-4c53-9c06-e3ea169ff918",
   "metadata": {},
   "outputs": [
    {
     "name": "stdout",
     "output_type": "stream",
     "text": [
      "Name :  Arjun\n",
      "Id No :  2\n",
      "Dept :  CSE\n",
      "Salary :  50000\n",
      "\n",
      "\n"
     ]
    }
   ],
   "source": [
    "s = obj.search(2)\n",
    "obj.display(ls[s])"
   ]
  },
  {
   "cell_type": "code",
   "execution_count": 6,
   "id": "926a10cf-acea-4901-9036-41d42f704343",
   "metadata": {},
   "outputs": [
    {
     "name": "stdout",
     "output_type": "stream",
     "text": [
      "Name :  Ishav\n",
      "Id No :  1\n",
      "Dept :  CSE\n",
      "Salary :  10000\n",
      "\n",
      "\n",
      "Name :  Arjun\n",
      "Id No :  2\n",
      "Dept :  CSE\n",
      "Salary :  50000\n",
      "\n",
      "\n"
     ]
    }
   ],
   "source": [
    "for i in range(ls.__len__()):\n",
    "    obj.display(ls[i])"
   ]
  },
  {
   "cell_type": "code",
   "execution_count": 7,
   "id": "61e6e294-f94e-4e2b-930d-e1c81c9c009e",
   "metadata": {},
   "outputs": [],
   "source": [
    "obj.delete(2)"
   ]
  },
  {
   "cell_type": "code",
   "execution_count": 8,
   "id": "e70cae67-9cc9-4845-adc3-80423a58c9a8",
   "metadata": {},
   "outputs": [
    {
     "name": "stdout",
     "output_type": "stream",
     "text": [
      "Name :  Ishav\n",
      "Id No :  1\n",
      "Dept :  CSE\n",
      "Salary :  10000\n",
      "\n",
      "\n"
     ]
    }
   ],
   "source": [
    "for i in range(ls.__len__()):\n",
    "    obj.display(ls[i])"
   ]
  },
  {
   "cell_type": "code",
   "execution_count": null,
   "id": "fb6c516c-5373-4ab7-87a9-2aa6b1e48ca9",
   "metadata": {},
   "outputs": [],
   "source": []
  }
 ],
 "metadata": {
  "kernelspec": {
   "display_name": "Python 3 (ipykernel)",
   "language": "python",
   "name": "python3"
  },
  "language_info": {
   "codemirror_mode": {
    "name": "ipython",
    "version": 3
   },
   "file_extension": ".py",
   "mimetype": "text/x-python",
   "name": "python",
   "nbconvert_exporter": "python",
   "pygments_lexer": "ipython3",
   "version": "3.10.9"
  }
 },
 "nbformat": 4,
 "nbformat_minor": 5
}
