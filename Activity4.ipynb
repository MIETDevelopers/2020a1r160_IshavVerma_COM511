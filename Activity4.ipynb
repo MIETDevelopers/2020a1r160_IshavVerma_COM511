{
 "cells": [
  {
   "cell_type": "markdown",
   "metadata": {},
   "source": [
    " # Activity 4"
   ]
  },
  {
   "cell_type": "markdown",
   "metadata": {},
   "source": [
    "### Write a program to perform searching activity using Linear and binary search."
   ]
  },
  {
   "cell_type": "markdown",
   "metadata": {},
   "source": [
    "### 1.Linear Search"
   ]
  },
  {
   "cell_type": "code",
   "execution_count": 8,
   "metadata": {},
   "outputs": [
    {
     "name": "stdout",
     "output_type": "stream",
     "text": [
      "Element found at index: 5\n"
     ]
    }
   ],
   "source": [
    "def linear_Search(list1,n,key):\n",
    "    for i in range(0,n):\n",
    "        if(list1[i]==key):\n",
    "            return i\n",
    "    return -1\n",
    "\n",
    "list1 = [1,3,4,5,6,7,8]\n",
    "key=7\n",
    "n=len(list1)\n",
    "res = linear_Search(list1,n,key)\n",
    "if(res == -1):\n",
    "    print('Element not Found')\n",
    "else:\n",
    "    print('Element found at index:',res)\n"
   ]
  },
  {
   "cell_type": "markdown",
   "metadata": {},
   "source": [
    "### 2. Binary Search"
   ]
  },
  {
   "cell_type": "code",
   "execution_count": 1,
   "metadata": {},
   "outputs": [
    {
     "name": "stdout",
     "output_type": "stream",
     "text": [
      "Element is present at index 4\n"
     ]
    }
   ],
   "source": [
    "def binary_search(list1,n):\n",
    "    low = 0\n",
    "    high = len(list1)-1\n",
    "    mid = 0\n",
    "    while low <= high:\n",
    "        mid = (high+low)//2\n",
    "        if list1[mid]<n:\n",
    "            low = mid + 1\n",
    "        elif list1[mid]>n:\n",
    "            high = mid -1\n",
    "        else:\n",
    "            return mid\n",
    "    return -1\n",
    "\n",
    "list1 = [12,24,32,39,45,50,54]\n",
    "n = 45\n",
    "result = binary_search(list1,n)\n",
    "\n",
    "if result != -1:\n",
    "    print('Element is present at index', str(result))\n",
    "else:\n",
    "    print('Element is not present in list1')"
   ]
  },
  {
   "cell_type": "markdown",
   "metadata": {},
   "source": [
    "### 3. Recursive Binary Search"
   ]
  },
  {
   "cell_type": "code",
   "execution_count": 4,
   "metadata": {},
   "outputs": [
    {
     "name": "stdout",
     "output_type": "stream",
     "text": [
      "Element is present at index 2\n"
     ]
    }
   ],
   "source": [
    "def binary_search(list1,low,high,n):\n",
    "    if low <= high:\n",
    "        mid = (low+high)//2\n",
    "        if list1[mid] == n:\n",
    "            return mid\n",
    "        elif list1[mid]>n:\n",
    "            return binary_search(list1,low,mid-1,n)\n",
    "        else:\n",
    "            return binary_search(list1,mid+1,high,n)\n",
    "    else:\n",
    "        return -1\n",
    "\n",
    "list1 = [12,24,32,39,45,50,54]\n",
    "n = 32\n",
    "res = binary_search(list1,0,len(list1)-1,n)\n",
    "\n",
    "if res != -1:\n",
    "    print('Element is present at index', str(res))\n",
    "else:\n",
    "    print('Element is not present in list1')"
   ]
  }
 ],
 "metadata": {
  "kernelspec": {
   "display_name": "Python 3",
   "language": "python",
   "name": "python3"
  },
  "language_info": {
   "codemirror_mode": {
    "name": "ipython",
    "version": 3
   },
   "file_extension": ".py",
   "mimetype": "text/x-python",
   "name": "python",
   "nbconvert_exporter": "python",
   "pygments_lexer": "ipython3",
   "version": "3.7.3"
  }
 },
 "nbformat": 4,
 "nbformat_minor": 2
}
