{
 "cells": [
  {
   "cell_type": "markdown",
   "metadata": {},
   "source": [
    "# Activity - 3 "
   ]
  },
  {
   "cell_type": "markdown",
   "metadata": {},
   "source": [
    "## Consider the string “Welcome to Python world”. Perform the following operations:"
   ]
  },
  {
   "cell_type": "markdown",
   "metadata": {},
   "source": [
    "### A. Count the number of alphabets in the given string."
   ]
  },
  {
   "cell_type": "markdown",
   "metadata": {},
   "source": [
    "#### Method: Using isalpha() + len()"
   ]
  },
  {
   "cell_type": "code",
   "execution_count": 1,
   "metadata": {},
   "outputs": [
    {
     "name": "stdout",
     "output_type": "stream",
     "text": [
      "The Original string is : geeksfoegeeks !!$ is best 4 all Gekks 10-0\n",
      "Count of Alphabets: 27\n"
     ]
    }
   ],
   "source": [
    "test_str = 'geeksfoegeeks !!$ is best 4 all Gekks 10-0'\n",
    "print(\"The Original string is : \"+str(test_str))\n",
    "res=len([ele for ele in test_str if ele.isalpha()])\n",
    "print('Count of Alphabets: '+str(res))"
   ]
  },
  {
   "cell_type": "markdown",
   "metadata": {},
   "source": [
    "#### Method: Using ascii_uppercase() + ascii_lowercase() + len()"
   ]
  },
  {
   "cell_type": "code",
   "execution_count": 9,
   "metadata": {},
   "outputs": [
    {
     "name": "stdout",
     "output_type": "stream",
     "text": [
      "The original string is: geeksforgeeks !!$ is best 4 all Geeks 10-0\n",
      "Count of Alphabets: 27\n"
     ]
    }
   ],
   "source": [
    "import string\n",
    "test_str='geeksforgeeks !!$ is best 4 all Geeks 10-0'\n",
    "print('The original string is: '+str(test_str))\n",
    "res=len([ele for ele in test_str if ele in string.ascii_uppercase or ele in string.ascii_lowercase])\n",
    "print('Count of Alphabets: '+str(res))"
   ]
  },
  {
   "cell_type": "markdown",
   "metadata": {},
   "source": [
    "### B. To extract characters in the given, range from the given string."
   ]
  },
  {
   "cell_type": "markdown",
   "metadata": {},
   "source": [
    "#### Method : Using join() + list comprehension"
   ]
  },
  {
   "cell_type": "code",
   "execution_count": 12,
   "metadata": {},
   "outputs": [
    {
     "name": "stdout",
     "output_type": "stream",
     "text": [
      "The original list is : ['geeksforgeeks', 'is', 'best', 'for', 'geeks']\n",
      "Range characters : sbestforgeeks\n"
     ]
    }
   ],
   "source": [
    "test_list = [\"geeksforgeeks\", \"is\", \"best\", \"for\", \"geeks\"]\n",
    "print(\"The original list is : \" + str(test_list))\n",
    "strt, end = 14, 30\n",
    "res = ''.join([sub for sub in test_list])[strt : end]\n",
    "print(\"Range characters : \" + str(res))\n"
   ]
  },
  {
   "cell_type": "markdown",
   "metadata": {},
   "source": [
    "### C. Check if the string is alphanumeric or not.\n"
   ]
  },
  {
   "cell_type": "code",
   "execution_count": 13,
   "metadata": {},
   "outputs": [
    {
     "name": "stdout",
     "output_type": "stream",
     "text": [
      "abc 123 is alphanumeric? False\n",
      "abc_123 is alphanumeric? False\n",
      "000 is alphanumeric? True\n",
      "aaaa is alphanumeric? True\n"
     ]
    }
   ],
   "source": [
    "string = \"abc 123\"\n",
    "print(string, \"is alphanumeric?\", string.isalnum())\n",
    " \n",
    "string = \"abc_123\"\n",
    "print(string, \"is alphanumeric?\", string.isalnum())\n",
    " \n",
    "string = \"000\"\n",
    "print(string, \"is alphanumeric?\", string.isalnum())\n",
    " \n",
    "string = \"aaaa\"\n",
    "print(string, \"is alphanumeric?\", string.isalnum())"
   ]
  }
 ],
 "metadata": {
  "kernelspec": {
   "display_name": "Python 3",
   "language": "python",
   "name": "python3"
  },
  "language_info": {
   "codemirror_mode": {
    "name": "ipython",
    "version": 3
   },
   "file_extension": ".py",
   "mimetype": "text/x-python",
   "name": "python",
   "nbconvert_exporter": "python",
   "pygments_lexer": "ipython3",
   "version": "3.7.3"
  }
 },
 "nbformat": 4,
 "nbformat_minor": 2
}
